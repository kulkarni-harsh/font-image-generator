{
 "cells": [
  {
   "cell_type": "markdown",
   "metadata": {},
   "source": [
    "## Import Libraries"
   ]
  },
  {
   "cell_type": "code",
   "execution_count": 61,
   "metadata": {},
   "outputs": [],
   "source": [
    "import os\n",
    "import pathlib\n",
    "import numpy as np\n",
    "import cv2\n",
    "from PIL import Image, ImageDraw, ImageFont\n",
    "import matplotlib.pyplot as plt\n",
    "from tensorflow.keras.preprocessing.image import ImageDataGenerator"
   ]
  },
  {
   "cell_type": "markdown",
   "metadata": {},
   "source": [
    "### CONSTANTS \n",
    "change as per your requirements"
   ]
  },
  {
   "cell_type": "code",
   "execution_count": 78,
   "metadata": {},
   "outputs": [],
   "source": [
    "NUMS=[str(i)for i in range(10)]\n",
    "SMALL=[chr(ord('a')+i)for i in range(26)]\n",
    "CAPS=[chr(ord('A')+i)for i in range(26)]\n",
    "COMBINED=NUMS+SMALL+CAPS\n",
    "\n",
    "IMAGE_SHAPE=(32,32)\n",
    "FONT_SIZE=28"
   ]
  },
  {
   "cell_type": "code",
   "execution_count": 70,
   "metadata": {},
   "outputs": [
    {
     "data": {
      "text/plain": [
       "['fonts/Roboto-ThinItalic.ttf',\n",
       " 'fonts/OpenSans-SemiboldItalic.ttf',\n",
       " 'fonts/FranklinGothic.ttf',\n",
       " 'fonts/Roboto-LightItalic.ttf',\n",
       " 'fonts/Roboto-Thin.ttf',\n",
       " 'fonts/Roboto-Medium.ttf',\n",
       " 'fonts/Roboto-Light.ttf',\n",
       " 'fonts/FranklinGothicITALIC.ttf',\n",
       " 'fonts/OpenSans-ExtraBold.ttf',\n",
       " 'fonts/Roboto-BoldItalic.ttf',\n",
       " 'fonts/Helvetica-Bold.ttf',\n",
       " 'fonts/OpenSans-ExtraBoldItalic.ttf',\n",
       " 'fonts/helvetica-light-587ebe5a59211.ttf',\n",
       " 'fonts/Helvetica.ttf',\n",
       " 'fonts/Roboto-Black.ttf',\n",
       " 'fonts/Helvetica-BoldOblique.ttf',\n",
       " 'fonts/times new roman bold.ttf',\n",
       " 'fonts/OpenSans-Light.ttf',\n",
       " 'fonts/times new roman.ttf',\n",
       " 'fonts/times new roman bold italic.ttf',\n",
       " 'fonts/Franklin Gothic Condensed.ttf',\n",
       " 'fonts/OpenSans-Semibold.ttf',\n",
       " 'fonts/Calibri.ttf',\n",
       " 'fonts/times new roman italic.ttf',\n",
       " 'fonts/OpenSans-LightItalic.ttf',\n",
       " 'fonts/Roboto-Bold.ttf',\n",
       " 'fonts/Roboto-MediumItalic.ttf',\n",
       " 'fonts/calibrib.ttf',\n",
       " 'fonts/OpenSans-Regular.ttf',\n",
       " 'fonts/FRANKGO.ttf',\n",
       " 'fonts/OpenSans-Italic.ttf',\n",
       " 'fonts/Roboto-BlackItalic.ttf',\n",
       " 'fonts/calibril.ttf',\n",
       " 'fonts/Roboto-Italic.ttf',\n",
       " 'fonts/Helvetica-Oblique.ttf',\n",
       " 'fonts/OpenSans-Bold.ttf',\n",
       " 'fonts/Roboto-Regular.ttf',\n",
       " 'fonts/OpenSans-BoldItalic.ttf']"
      ]
     },
     "execution_count": 70,
     "metadata": {},
     "output_type": "execute_result"
    }
   ],
   "source": [
    "font_paths=list(map(str,list(pathlib.Path('fonts/').glob('*.ttf'))))\n",
    "font_paths"
   ]
  },
  {
   "cell_type": "markdown",
   "metadata": {},
   "source": [
    "## Base Image Creation"
   ]
  },
  {
   "cell_type": "code",
   "execution_count": 71,
   "metadata": {},
   "outputs": [
    {
     "data": {
      "text/plain": [
       "<matplotlib.image.AxesImage at 0x7fb890151300>"
      ]
     },
     "execution_count": 71,
     "metadata": {},
     "output_type": "execute_result"
    },
    {
     "data": {
      "image/png": "[encoded data removed]",
      "text/plain": [
       "<Figure size 432x288 with 1 Axes>"
      ]
     },
     "metadata": {
      "needs_background": "light"
     },
     "output_type": "display_data"
    }
   ],
   "source": [
    "base_image=np.ones(IMAGE_SHAPE)*255\n",
    "cv2.imwrite('base_image.png',base_image)\n",
    "base_image=Image.open('base_image.png')\n",
    "plt.imshow(base_image,cmap='binary')"
   ]
  },
  {
   "cell_type": "markdown",
   "metadata": {},
   "source": [
    "## Fonts Dataset Creation"
   ]
  },
  {
   "cell_type": "code",
   "execution_count": 74,
   "metadata": {},
   "outputs": [],
   "source": [
    "import shutil\n",
    "try:\n",
    "    shutil.rmtree('dataset')\n",
    "except:\n",
    "    pass\n",
    "os.mkdir('dataset')\n"
   ]
  },
  {
   "cell_type": "code",
   "execution_count": 75,
   "metadata": {},
   "outputs": [],
   "source": [
    "def center_text(img, font, text, color='black'):\n",
    "    draw = ImageDraw.Draw(img)\n",
    "    text_width, text_height = draw.textsize(text, font)\n",
    "    position = ((IMAGE_SHAPE[1]-text_width)/2,(IMAGE_SHAPE[0]-text_height)/2)\n",
    "    draw.text(position, text, color, font=font)\n",
    "    return img"
   ]
  },
  {
   "cell_type": "code",
   "execution_count": 76,
   "metadata": {},
   "outputs": [],
   "source": [
    "for char in COMBINED:\n",
    "    count=0\n",
    "    os.mkdir(f'dataset/{char}')\n",
    "    for font_path in font_paths:\n",
    "        base_image=Image.open('base_image.png')\n",
    "        font_style = ImageFont.truetype(font_path, FONT_SIZE)\n",
    "        base_image=center_text(base_image,font_style,char)\n",
    "        base_image.save(f'dataset/{char}/{count}.png')\n",
    "        count+=1\n",
    "        "
   ]
  },
  {
   "cell_type": "markdown",
   "metadata": {},
   "source": [
    "## Adding Augmented Images"
   ]
  },
  {
   "cell_type": "code",
   "execution_count": 77,
   "metadata": {},
   "outputs": [
    {
     "name": "stdout",
     "output_type": "stream",
     "text": [
      "Found 38 images belonging to 1 classes.\n",
      "Found 38 images belonging to 1 classes.\n",
      "Found 38 images belonging to 1 classes.\n",
      "Found 38 images belonging to 1 classes.\n",
      "Found 38 images belonging to 1 classes.\n",
      "Found 38 images belonging to 1 classes.\n",
      "Found 38 images belonging to 1 classes.\n",
      "Found 38 images belonging to 1 classes.\n",
      "Found 38 images belonging to 1 classes.\n",
      "Found 38 images belonging to 1 classes.\n",
      "Found 38 images belonging to 1 classes.\n",
      "Found 38 images belonging to 1 classes.\n",
      "Found 38 images belonging to 1 classes.\n",
      "Found 38 images belonging to 1 classes.\n",
      "Found 38 images belonging to 1 classes.\n",
      "Found 38 images belonging to 1 classes.\n",
      "Found 38 images belonging to 1 classes.\n",
      "Found 38 images belonging to 1 classes.\n",
      "Found 38 images belonging to 1 classes.\n",
      "Found 38 images belonging to 1 classes.\n",
      "Found 38 images belonging to 1 classes.\n",
      "Found 38 images belonging to 1 classes.\n",
      "Found 38 images belonging to 1 classes.\n",
      "Found 38 images belonging to 1 classes.\n",
      "Found 38 images belonging to 1 classes.\n",
      "Found 38 images belonging to 1 classes.\n",
      "Found 38 images belonging to 1 classes.\n",
      "Found 38 images belonging to 1 classes.\n",
      "Found 38 images belonging to 1 classes.\n",
      "Found 38 images belonging to 1 classes.\n",
      "Found 38 images belonging to 1 classes.\n",
      "Found 38 images belonging to 1 classes.\n",
      "Found 38 images belonging to 1 classes.\n",
      "Found 38 images belonging to 1 classes.\n",
      "Found 38 images belonging to 1 classes.\n",
      "Found 38 images belonging to 1 classes.\n",
      "Found 38 images belonging to 1 classes.\n",
      "Found 38 images belonging to 1 classes.\n",
      "Found 38 images belonging to 1 classes.\n",
      "Found 38 images belonging to 1 classes.\n",
      "Found 38 images belonging to 1 classes.\n",
      "Found 38 images belonging to 1 classes.\n",
      "Found 38 images belonging to 1 classes.\n",
      "Found 38 images belonging to 1 classes.\n",
      "Found 38 images belonging to 1 classes.\n",
      "Found 38 images belonging to 1 classes.\n",
      "Found 38 images belonging to 1 classes.\n",
      "Found 38 images belonging to 1 classes.\n",
      "Found 38 images belonging to 1 classes.\n",
      "Found 38 images belonging to 1 classes.\n",
      "Found 38 images belonging to 1 classes.\n",
      "Found 38 images belonging to 1 classes.\n",
      "Found 38 images belonging to 1 classes.\n",
      "Found 38 images belonging to 1 classes.\n",
      "Found 38 images belonging to 1 classes.\n",
      "Found 38 images belonging to 1 classes.\n",
      "Found 38 images belonging to 1 classes.\n",
      "Found 38 images belonging to 1 classes.\n",
      "Found 38 images belonging to 1 classes.\n",
      "Found 38 images belonging to 1 classes.\n",
      "Found 38 images belonging to 1 classes.\n",
      "Found 38 images belonging to 1 classes.\n"
     ]
    }
   ],
   "source": [
    "image_paths=list(map(str,list(pathlib.Path('dataset').glob('*'))))\n",
    "for image_path in image_paths:\n",
    "    char=image_path.split('/')[-1]\n",
    "    datagen=ImageDataGenerator(\n",
    "    rotation_range=5,\n",
    "    width_shift_range=0.05,\n",
    "    height_shift_range=0.05,\n",
    "    shear_range=0.05,\n",
    "    zoom_range=0.05,\n",
    "    )\n",
    "    generator=datagen.flow_from_directory('dataset',\n",
    "    classes=[char],\n",
    "    save_format='png',\n",
    "    save_to_dir=image_path,\n",
    "    batch_size=64,\n",
    "    target_size=IMAGE_SHAPE,)\n",
    "    generator.next()\n",
    "    generator.next()\n",
    "\n",
    "    "
   ]
  },
  {
   "cell_type": "code",
   "execution_count": 79,
   "metadata": {},
   "outputs": [
    {
     "name": "stdout",
     "output_type": "stream",
     "text": [
      "We are Done\n"
     ]
    }
   ],
   "source": [
    "print(\"We are Done\")"
   ]
  },
  {
   "cell_type": "markdown",
   "metadata": {},
   "source": [
    "## Thank You!"
   ]
  }
 ],
 "metadata": {
  "kernelspec": {
   "display_name": "Python 3.10.4 64-bit",
   "language": "python",
   "name": "python3"
  },
  "language_info": {
   "codemirror_mode": {
    "name": "ipython",
    "version": 3
   },
   "file_extension": ".py",
   "mimetype": "text/x-python",
   "name": "python",
   "nbconvert_exporter": "python",
   "pygments_lexer": "ipython3",
   "version": "3.10.4"
  },
  "orig_nbformat": 4,
  "vscode": {
   "interpreter": {
    "hash": "916dbcbb3f70747c44a77c7bcd40155683ae19c65e1c03b4aa3499c5328201f1"
   }
  }
 },
 "nbformat": 4,
 "nbformat_minor": 2
}
